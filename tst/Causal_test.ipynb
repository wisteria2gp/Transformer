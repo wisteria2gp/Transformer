{
 "cells": [
  {
   "cell_type": "code",
   "execution_count": 14,
   "metadata": {},
   "outputs": [],
   "source": [
    "import torch\n",
    "import torch.nn as nn\n",
    "\n",
    "def CausalConv1d(in_channels, out_channels, kernel_size, dilation=1, **kwargs):\n",
    "   pad = (kernel_size - 1) * dilation\n",
    "   return nn.Conv1d(in_channels, out_channels, kernel_size, padding=pad, dilation=dilation, **kwargs)"
   ]
  },
  {
   "cell_type": "code",
   "execution_count": 15,
   "metadata": {},
   "outputs": [
    {
     "name": "stdout",
     "output_type": "stream",
     "text": [
      "tensor([[[ 0.0000,  0.0000,  0.0000,  1.4287, -0.2283,  0.9576, -1.3580,\n",
      "          -1.4830,  0.9825]]])\n",
      "tensor([[[ 0.0000,  0.0000,  0.0000, -0.0649,  0.0104, -0.7645,  0.1769,\n",
      "          -0.0987,  0.5900,  0.9611, -0.7974, -0.3293,  0.2182]]],\n",
      "       grad_fn=<SqueezeBackward1>)\n"
     ]
    }
   ],
   "source": [
    "m = CausalConv1d(1, 1, kernel_size=3, dilation=2, bias=False)\n",
    "x = torch.autograd.Variable(torch.randn(1, 1, 9))\n",
    "x[:, :, :3].data.zero_()\n",
    "print(x)\n",
    "print(m(x)) "
   ]
  },
  {
   "cell_type": "code",
   "execution_count": 16,
   "metadata": {},
   "outputs": [],
   "source": [
    "class Network(nn.Module):\n",
    "    def __init__(self):\n",
    "        super().__init__()\n",
    "        self.conv1 = CausalConv1d(1, 1, kernel_size=3, dilation=1)\n",
    "\n",
    "    def forward(self, x):\n",
    "        x = self.conv1(x)\n",
    "        #         x = x[:, :, :-self.conv1.padding[0]]  # remove trailing padding\n",
    "        return x"
   ]
  },
  {
   "cell_type": "code",
   "execution_count": 17,
   "metadata": {},
   "outputs": [
    {
     "name": "stdout",
     "output_type": "stream",
     "text": [
      "tensor([[[ 0.0000e+00,  0.0000e+00,  0.0000e+00,  3.4293e-01,  5.9516e-01,\n",
      "           5.4752e-04, -5.8277e-01,  4.6650e-01,  7.9391e-01]]])\n",
      "torch.Size([1, 1, 11])\n"
     ]
    }
   ],
   "source": [
    "net=Network()\n",
    "x = torch.randn(1, 1, 9)\n",
    "x[:, :, :3].data.zero_()\n",
    "print(x)\n",
    "print(net(x).shape)"
   ]
  },
  {
   "cell_type": "code",
   "execution_count": null,
   "metadata": {},
   "outputs": [],
   "source": []
  }
 ],
 "metadata": {
  "kernelspec": {
   "display_name": "Python 3",
   "language": "python",
   "name": "python3"
  },
  "language_info": {
   "codemirror_mode": {
    "name": "ipython",
    "version": 3
   },
   "file_extension": ".py",
   "mimetype": "text/x-python",
   "name": "python",
   "nbconvert_exporter": "python",
   "pygments_lexer": "ipython3",
   "version": "3.7.6"
  }
 },
 "nbformat": 4,
 "nbformat_minor": 4
}
